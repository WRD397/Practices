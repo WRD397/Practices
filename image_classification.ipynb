{
  "nbformat": 4,
  "nbformat_minor": 0,
  "metadata": {
    "colab": {
      "provenance": [],
      "authorship_tag": "ABX9TyO/zYEN8REwXc/ujPstLH7z",
      "include_colab_link": true
    },
    "kernelspec": {
      "name": "python3",
      "display_name": "Python 3"
    },
    "language_info": {
      "name": "python"
    },
    "accelerator": "GPU",
    "gpuClass": "standard"
  },
  "cells": [
    {
      "cell_type": "markdown",
      "metadata": {
        "id": "view-in-github",
        "colab_type": "text"
      },
      "source": [
        "<a href=\"https://colab.research.google.com/github/WRD397/Practices/blob/main/image_classification.ipynb\" target=\"_parent\"><img src=\"https://colab.research.google.com/assets/colab-badge.svg\" alt=\"Open In Colab\"/></a>"
      ]
    },
    {
      "cell_type": "code",
      "execution_count": 1,
      "metadata": {
        "id": "wBllwBQ8JGaB"
      },
      "outputs": [],
      "source": [
        "import tensorflow as tf\n",
        "\n",
        "import numpy as np\n",
        "import pandas as pd\n",
        "import matplotlib.pyplot as plt"
      ]
    },
    {
      "cell_type": "markdown",
      "source": [
        "## LOADING"
      ],
      "metadata": {
        "id": "s_lerlqEPFD9"
      }
    },
    {
      "cell_type": "markdown",
      "source": [],
      "metadata": {
        "id": "wolAleJ0PE9q"
      }
    },
    {
      "cell_type": "code",
      "source": [
        "(train_img, train_label), (test_img, test_label) = tf.keras.datasets.fashion_mnist.load_data()"
      ],
      "metadata": {
        "colab": {
          "base_uri": "https://localhost:8080/"
        },
        "id": "1B4S4DzpJR0r",
        "outputId": "6450383b-cf73-46a1-bdf2-2981f8f68616"
      },
      "execution_count": 2,
      "outputs": [
        {
          "output_type": "stream",
          "name": "stdout",
          "text": [
            "Downloading data from https://storage.googleapis.com/tensorflow/tf-keras-datasets/train-labels-idx1-ubyte.gz\n",
            "29515/29515 [==============================] - 0s 1us/step\n",
            "Downloading data from https://storage.googleapis.com/tensorflow/tf-keras-datasets/train-images-idx3-ubyte.gz\n",
            "26421880/26421880 [==============================] - 2s 0us/step\n",
            "Downloading data from https://storage.googleapis.com/tensorflow/tf-keras-datasets/t10k-labels-idx1-ubyte.gz\n",
            "5148/5148 [==============================] - 0s 0us/step\n",
            "Downloading data from https://storage.googleapis.com/tensorflow/tf-keras-datasets/t10k-images-idx3-ubyte.gz\n",
            "4422102/4422102 [==============================] - 1s 0us/step\n"
          ]
        }
      ]
    },
    {
      "cell_type": "code",
      "source": [
        "train_img.shape"
      ],
      "metadata": {
        "colab": {
          "base_uri": "https://localhost:8080/"
        },
        "id": "gFNiR8Y_JUi2",
        "outputId": "dbfefd18-3b4f-40fd-9f42-9fcc9058b9a1"
      },
      "execution_count": 3,
      "outputs": [
        {
          "output_type": "execute_result",
          "data": {
            "text/plain": [
              "(60000, 28, 28)"
            ]
          },
          "metadata": {},
          "execution_count": 3
        }
      ]
    },
    {
      "cell_type": "code",
      "source": [
        "type(train_img)"
      ],
      "metadata": {
        "colab": {
          "base_uri": "https://localhost:8080/"
        },
        "id": "pDhNoGJUJUgS",
        "outputId": "25c946a1-6fd9-4b33-c27b-9c44ee9386ab"
      },
      "execution_count": 4,
      "outputs": [
        {
          "output_type": "execute_result",
          "data": {
            "text/plain": [
              "numpy.ndarray"
            ]
          },
          "metadata": {},
          "execution_count": 4
        }
      ]
    },
    {
      "cell_type": "code",
      "source": [
        "test_img.shape"
      ],
      "metadata": {
        "colab": {
          "base_uri": "https://localhost:8080/"
        },
        "id": "_pmchQ__J_AP",
        "outputId": "317aa52c-1531-418b-bd23-c3b28146cff9"
      },
      "execution_count": 5,
      "outputs": [
        {
          "output_type": "execute_result",
          "data": {
            "text/plain": [
              "(10000, 28, 28)"
            ]
          },
          "metadata": {},
          "execution_count": 5
        }
      ]
    },
    {
      "cell_type": "markdown",
      "source": [
        "60000 images 28X28"
      ],
      "metadata": {
        "id": "RgRbVDk_MGzl"
      }
    },
    {
      "cell_type": "code",
      "source": [
        "train_label.shape"
      ],
      "metadata": {
        "colab": {
          "base_uri": "https://localhost:8080/"
        },
        "id": "TnP5zPf8KJYF",
        "outputId": "92abcf7f-2048-4f47-87e3-ed03f1d61ebd"
      },
      "execution_count": 6,
      "outputs": [
        {
          "output_type": "execute_result",
          "data": {
            "text/plain": [
              "(60000,)"
            ]
          },
          "metadata": {},
          "execution_count": 6
        }
      ]
    },
    {
      "cell_type": "code",
      "source": [
        "train_label"
      ],
      "metadata": {
        "colab": {
          "base_uri": "https://localhost:8080/"
        },
        "id": "r7gzWrDdKMIO",
        "outputId": "3c30ec57-ca68-45c4-c2d3-351071a35944"
      },
      "execution_count": 7,
      "outputs": [
        {
          "output_type": "execute_result",
          "data": {
            "text/plain": [
              "array([9, 0, 0, ..., 3, 0, 5], dtype=uint8)"
            ]
          },
          "metadata": {},
          "execution_count": 7
        }
      ]
    },
    {
      "cell_type": "code",
      "source": [
        "train_img[0,15,15]"
      ],
      "metadata": {
        "colab": {
          "base_uri": "https://localhost:8080/"
        },
        "id": "EC493H5HKSE-",
        "outputId": "17103316-6cd3-423f-87cb-cc78d4cca8c5"
      },
      "execution_count": 8,
      "outputs": [
        {
          "output_type": "execute_result",
          "data": {
            "text/plain": [
              "221"
            ]
          },
          "metadata": {},
          "execution_count": 8
        }
      ]
    },
    {
      "cell_type": "markdown",
      "source": [
        "The images we are dealing with are basically grey scaled value. So the value is between 0 to 255. 0---> black, 255----> white"
      ],
      "metadata": {
        "id": "pz-FgemWM0Nu"
      }
    },
    {
      "cell_type": "code",
      "source": [
        "pd.Series(train_label).value_counts()"
      ],
      "metadata": {
        "colab": {
          "base_uri": "https://localhost:8080/"
        },
        "id": "g09os8nKL222",
        "outputId": "e046d686-011b-43c7-d1a7-d27c7ac45313"
      },
      "execution_count": 9,
      "outputs": [
        {
          "output_type": "execute_result",
          "data": {
            "text/plain": [
              "9    6000\n",
              "0    6000\n",
              "3    6000\n",
              "2    6000\n",
              "7    6000\n",
              "5    6000\n",
              "1    6000\n",
              "6    6000\n",
              "4    6000\n",
              "8    6000\n",
              "dtype: int64"
            ]
          },
          "metadata": {},
          "execution_count": 9
        }
      ]
    },
    {
      "cell_type": "markdown",
      "source": [
        "So, 10 classes are there."
      ],
      "metadata": {
        "id": "PHKUe_GwNvgR"
      }
    },
    {
      "cell_type": "code",
      "source": [
        "train_img[2].shape"
      ],
      "metadata": {
        "colab": {
          "base_uri": "https://localhost:8080/"
        },
        "id": "6y8RYBOHL2xr",
        "outputId": "e95d5fcf-37c2-4bce-fd9c-8a48784c3008"
      },
      "execution_count": 10,
      "outputs": [
        {
          "output_type": "execute_result",
          "data": {
            "text/plain": [
              "(28, 28)"
            ]
          },
          "metadata": {},
          "execution_count": 10
        }
      ]
    },
    {
      "cell_type": "markdown",
      "source": [
        "So, this is basically a single image. Lets look at the image file now."
      ],
      "metadata": {
        "id": "zC-flinhOC-R"
      }
    },
    {
      "cell_type": "code",
      "source": [
        "plt.figure(figsize=(3,2))\n",
        "plt.imshow(train_img[3])\n",
        "plt.colorbar()\n",
        "plt.show()\n"
      ],
      "metadata": {
        "colab": {
          "base_uri": "https://localhost:8080/",
          "height": 217
        },
        "id": "oqvxfaeQN6VF",
        "outputId": "2913cb7a-1966-4ec2-b85a-2efdfa627f4a"
      },
      "execution_count": 11,
      "outputs": [
        {
          "output_type": "display_data",
          "data": {
            "text/plain": [
              "<Figure size 300x200 with 2 Axes>"
            ],
            "image/png": "[encoded data removed]"
          },
          "metadata": {}
        }
      ]
    },
    {
      "cell_type": "markdown",
      "source": [
        "# Data Preprocessing"
      ],
      "metadata": {
        "id": "TFU7iX3jQ8T-"
      }
    },
    {
      "cell_type": "markdown",
      "source": [
        "Now, for a single picture of 28X28 = 784 pixels, one single pixel can have value from 0 to 255. To standardize this, we will divide each pixel by 255."
      ],
      "metadata": {
        "id": "xRigpGSNPpOE"
      }
    },
    {
      "cell_type": "code",
      "source": [
        "train_img_scaled = train_img / 255.0\n",
        "test_img_scaled = test_img / 255.0"
      ],
      "metadata": {
        "id": "PgHgsHRyOMCa"
      },
      "execution_count": 12,
      "outputs": []
    },
    {
      "cell_type": "code",
      "source": [
        "train_img_scaled[0].shape"
      ],
      "metadata": {
        "colab": {
          "base_uri": "https://localhost:8080/"
        },
        "id": "SQuRzYjUOL_O",
        "outputId": "3a194fd7-6370-43dc-fc1e-d2dd58275488"
      },
      "execution_count": 13,
      "outputs": [
        {
          "output_type": "execute_result",
          "data": {
            "text/plain": [
              "(28, 28)"
            ]
          },
          "metadata": {},
          "execution_count": 13
        }
      ]
    },
    {
      "cell_type": "code",
      "source": [
        "train_img_scaled[1,12,12]"
      ],
      "metadata": {
        "colab": {
          "base_uri": "https://localhost:8080/"
        },
        "id": "JST6jO5lQn5h",
        "outputId": "65df4e98-4a4e-4b43-fd0d-013b845d6779"
      },
      "execution_count": 14,
      "outputs": [
        {
          "output_type": "execute_result",
          "data": {
            "text/plain": [
              "0.807843137254902"
            ]
          },
          "metadata": {},
          "execution_count": 14
        }
      ]
    },
    {
      "cell_type": "code",
      "source": [
        "plt.imshow(train_img_scaled[1])"
      ],
      "metadata": {
        "colab": {
          "base_uri": "https://localhost:8080/",
          "height": 447
        },
        "id": "MtkqBBdeQKfZ",
        "outputId": "f3454db4-63d0-409e-acaf-aca7a830fad5"
      },
      "execution_count": 15,
      "outputs": [
        {
          "output_type": "execute_result",
          "data": {
            "text/plain": [
              "<matplotlib.image.AxesImage at 0x7f1371f84be0>"
            ]
          },
          "metadata": {},
          "execution_count": 15
        },
        {
          "output_type": "display_data",
          "data": {
            "text/plain": [
              "<Figure size 640x480 with 1 Axes>"
            ],
            "image/png": "[encoded data removed]"
          },
          "metadata": {}
        }
      ]
    },
    {
      "cell_type": "markdown",
      "source": [
        "## Building the Model"
      ],
      "metadata": {
        "id": "HP_V9KPBRLhp"
      }
    },
    {
      "cell_type": "code",
      "source": [
        "###layers\n",
        "l0 = tf.keras.layers.Flatten(input_shape=(28,28))\n",
        "l1 = tf.keras.layers.Dense(units=512, activation = 'relu')\n",
        "d1 = tf.keras.layers.Dropout(0.2)\n",
        "l1 = tf.keras.layers.Dense(units=512, activation = 'relu')\n",
        "d2 = tf.keras.layers.Dropout(0.2)\n",
        "l2 = tf.keras.layers.Dense(units=10, activation='softmax')\n",
        "\n",
        "layers = [l0,l1,l2]\n",
        "model = tf.keras.Sequential(layers)"
      ],
      "metadata": {
        "id": "NUH-AVaPQKnk"
      },
      "execution_count": 33,
      "outputs": []
    },
    {
      "cell_type": "markdown",
      "source": [
        "## Compiling the Model"
      ],
      "metadata": {
        "id": "j6gUZKIASNBX"
      }
    },
    {
      "cell_type": "code",
      "source": [
        "model.compile(optimizer='adam',\n",
        "              loss = 'sparse_categorical_crossentropy',\n",
        "              metrics=['accuracy'])"
      ],
      "metadata": {
        "id": "n7ACJ8EgQKqn"
      },
      "execution_count": 34,
      "outputs": []
    },
    {
      "cell_type": "markdown",
      "source": [
        "## Fitting "
      ],
      "metadata": {
        "id": "VYHMK8idVJTR"
      }
    },
    {
      "cell_type": "markdown",
      "source": [
        "#### Callback"
      ],
      "metadata": {
        "id": "UsAYNlG5VNIM"
      }
    },
    {
      "cell_type": "code",
      "source": [
        "callback = tf.keras.callbacks.EarlyStopping(monitor = 'val_accuracy',\n",
        "                                            mode = 'max',\n",
        "                                            baseline = 0.90,\n",
        "                                            min_delta = 0.0001,\n",
        "                                            patience = 3\n",
        "                                            )"
      ],
      "metadata": {
        "id": "EvcW4tBFQKtu"
      },
      "execution_count": 35,
      "outputs": []
    },
    {
      "cell_type": "code",
      "source": [
        "model.fit(train_img_scaled, train_label, epochs=10, validation_split = 0.2, verbose=2)"
      ],
      "metadata": {
        "colab": {
          "base_uri": "https://localhost:8080/"
        },
        "id": "N4hm1CNWQKw9",
        "outputId": "01fa6df6-334a-416e-a83b-1d7375678d30"
      },
      "execution_count": 37,
      "outputs": [
        {
          "output_type": "stream",
          "name": "stdout",
          "text": [
            "Epoch 1/10\n",
            "1500/1500 - 4s - loss: 0.3058 - accuracy: 0.8864 - val_loss: 0.3438 - val_accuracy: 0.8769 - 4s/epoch - 2ms/step\n",
            "Epoch 2/10\n",
            "1500/1500 - 4s - loss: 0.2866 - accuracy: 0.8924 - val_loss: 0.3296 - val_accuracy: 0.8780 - 4s/epoch - 3ms/step\n",
            "Epoch 3/10\n",
            "1500/1500 - 4s - loss: 0.2669 - accuracy: 0.9001 - val_loss: 0.3283 - val_accuracy: 0.8849 - 4s/epoch - 2ms/step\n",
            "Epoch 4/10\n",
            "1500/1500 - 4s - loss: 0.2571 - accuracy: 0.9022 - val_loss: 0.3312 - val_accuracy: 0.8808 - 4s/epoch - 2ms/step\n",
            "Epoch 5/10\n",
            "1500/1500 - 5s - loss: 0.2450 - accuracy: 0.9073 - val_loss: 0.3298 - val_accuracy: 0.8873 - 5s/epoch - 3ms/step\n",
            "Epoch 6/10\n",
            "1500/1500 - 4s - loss: 0.2322 - accuracy: 0.9129 - val_loss: 0.3212 - val_accuracy: 0.8906 - 4s/epoch - 2ms/step\n",
            "Epoch 7/10\n",
            "1500/1500 - 3s - loss: 0.2243 - accuracy: 0.9164 - val_loss: 0.3077 - val_accuracy: 0.8936 - 3s/epoch - 2ms/step\n",
            "Epoch 8/10\n",
            "1500/1500 - 4s - loss: 0.2154 - accuracy: 0.9187 - val_loss: 0.3324 - val_accuracy: 0.8913 - 4s/epoch - 3ms/step\n",
            "Epoch 9/10\n",
            "1500/1500 - 4s - loss: 0.2071 - accuracy: 0.9221 - val_loss: 0.3248 - val_accuracy: 0.8893 - 4s/epoch - 2ms/step\n",
            "Epoch 10/10\n",
            "1500/1500 - 4s - loss: 0.1990 - accuracy: 0.9255 - val_loss: 0.3439 - val_accuracy: 0.8898 - 4s/epoch - 2ms/step\n"
          ]
        },
        {
          "output_type": "execute_result",
          "data": {
            "text/plain": [
              "<keras.callbacks.History at 0x7f12c4260af0>"
            ]
          },
          "metadata": {},
          "execution_count": 37
        }
      ]
    },
    {
      "cell_type": "code",
      "source": [],
      "metadata": {
        "id": "8mtmgUiDQKzG"
      },
      "execution_count": null,
      "outputs": []
    },
    {
      "cell_type": "code",
      "source": [],
      "metadata": {
        "id": "PDlX95_YQK2Q"
      },
      "execution_count": null,
      "outputs": []
    }
  ]
}