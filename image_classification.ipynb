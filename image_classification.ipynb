{
  "nbformat": 4,
  "nbformat_minor": 0,
  "metadata": {
    "colab": {
      "provenance": [],
      "authorship_tag": "ABX9TyMx5PH379sRrHB6BiaVrT7l",
      "include_colab_link": true
    },
    "kernelspec": {
      "name": "python3",
      "display_name": "Python 3"
    },
    "language_info": {
      "name": "python"
    },
    "accelerator": "GPU",
    "gpuClass": "standard"
  },
  "cells": [
    {
      "cell_type": "markdown",
      "metadata": {
        "id": "view-in-github",
        "colab_type": "text"
      },
      "source": [
        "<a href=\"https://colab.research.google.com/github/WRD397/Practices/blob/main/image_classification.ipynb\" target=\"_parent\"><img src=\"https://colab.research.google.com/assets/colab-badge.svg\" alt=\"Open In Colab\"/></a>"
      ]
    },
    {
      "cell_type": "code",
      "execution_count": 1,
      "metadata": {
        "id": "wBllwBQ8JGaB"
      },
      "outputs": [],
      "source": [
        "import tensorflow as tf\n",
        "\n",
        "import numpy as np\n",
        "import pandas as pd\n",
        "import matplotlib.pyplot as plt"
      ]
    },
    {
      "cell_type": "markdown",
      "source": [
        "## LOADING"
      ],
      "metadata": {
        "id": "s_lerlqEPFD9"
      }
    },
    {
      "cell_type": "markdown",
      "source": [],
      "metadata": {
        "id": "wolAleJ0PE9q"
      }
    },
    {
      "cell_type": "code",
      "source": [
        "(train_img, train_label), (test_img, test_label) = tf.keras.datasets.fashion_mnist.load_data()"
      ],
      "metadata": {
        "colab": {
          "base_uri": "https://localhost:8080/"
        },
        "id": "1B4S4DzpJR0r",
        "outputId": "4be2dc0f-723a-4ac0-b934-3691e1df9dd2"
      },
      "execution_count": 2,
      "outputs": [
        {
          "output_type": "stream",
          "name": "stdout",
          "text": [
            "Downloading data from https://storage.googleapis.com/tensorflow/tf-keras-datasets/train-labels-idx1-ubyte.gz\n",
            "29515/29515 [==============================] - 0s 1us/step\n",
            "Downloading data from https://storage.googleapis.com/tensorflow/tf-keras-datasets/train-images-idx3-ubyte.gz\n",
            "26421880/26421880 [==============================] - 2s 0us/step\n",
            "Downloading data from https://storage.googleapis.com/tensorflow/tf-keras-datasets/t10k-labels-idx1-ubyte.gz\n",
            "5148/5148 [==============================] - 0s 0us/step\n",
            "Downloading data from https://storage.googleapis.com/tensorflow/tf-keras-datasets/t10k-images-idx3-ubyte.gz\n",
            "4422102/4422102 [==============================] - 1s 0us/step\n"
          ]
        }
      ]
    },
    {
      "cell_type": "code",
      "source": [
        "train_img.shape"
      ],
      "metadata": {
        "colab": {
          "base_uri": "https://localhost:8080/"
        },
        "id": "gFNiR8Y_JUi2",
        "outputId": "40cb01ff-b004-424c-9e1c-b54685e59f15"
      },
      "execution_count": 3,
      "outputs": [
        {
          "output_type": "execute_result",
          "data": {
            "text/plain": [
              "(60000, 28, 28)"
            ]
          },
          "metadata": {},
          "execution_count": 3
        }
      ]
    },
    {
      "cell_type": "code",
      "source": [
        "type(train_img)"
      ],
      "metadata": {
        "colab": {
          "base_uri": "https://localhost:8080/"
        },
        "id": "pDhNoGJUJUgS",
        "outputId": "418e7611-3968-40a0-bfd5-aa3a77af0b00"
      },
      "execution_count": 4,
      "outputs": [
        {
          "output_type": "execute_result",
          "data": {
            "text/plain": [
              "numpy.ndarray"
            ]
          },
          "metadata": {},
          "execution_count": 4
        }
      ]
    },
    {
      "cell_type": "code",
      "source": [
        "test_img.shape"
      ],
      "metadata": {
        "colab": {
          "base_uri": "https://localhost:8080/"
        },
        "id": "_pmchQ__J_AP",
        "outputId": "cc0afcd7-81d4-4e51-9dcd-7aae1456b740"
      },
      "execution_count": 5,
      "outputs": [
        {
          "output_type": "execute_result",
          "data": {
            "text/plain": [
              "(10000, 28, 28)"
            ]
          },
          "metadata": {},
          "execution_count": 5
        }
      ]
    },
    {
      "cell_type": "markdown",
      "source": [
        "60000 images 28X28"
      ],
      "metadata": {
        "id": "RgRbVDk_MGzl"
      }
    },
    {
      "cell_type": "code",
      "source": [
        "train_label.shape"
      ],
      "metadata": {
        "colab": {
          "base_uri": "https://localhost:8080/"
        },
        "id": "TnP5zPf8KJYF",
        "outputId": "946db183-fa7f-43a3-c38f-493922ee2da0"
      },
      "execution_count": 6,
      "outputs": [
        {
          "output_type": "execute_result",
          "data": {
            "text/plain": [
              "(60000,)"
            ]
          },
          "metadata": {},
          "execution_count": 6
        }
      ]
    },
    {
      "cell_type": "code",
      "source": [
        "train_label"
      ],
      "metadata": {
        "colab": {
          "base_uri": "https://localhost:8080/"
        },
        "id": "r7gzWrDdKMIO",
        "outputId": "74871667-c607-410f-be5e-714d84483646"
      },
      "execution_count": 7,
      "outputs": [
        {
          "output_type": "execute_result",
          "data": {
            "text/plain": [
              "array([9, 0, 0, ..., 3, 0, 5], dtype=uint8)"
            ]
          },
          "metadata": {},
          "execution_count": 7
        }
      ]
    },
    {
      "cell_type": "code",
      "source": [
        "train_img[0,15,15]"
      ],
      "metadata": {
        "colab": {
          "base_uri": "https://localhost:8080/"
        },
        "id": "EC493H5HKSE-",
        "outputId": "93354628-6489-4c04-ec8f-5b93d5336778"
      },
      "execution_count": 8,
      "outputs": [
        {
          "output_type": "execute_result",
          "data": {
            "text/plain": [
              "221"
            ]
          },
          "metadata": {},
          "execution_count": 8
        }
      ]
    },
    {
      "cell_type": "markdown",
      "source": [
        "The images we are dealing with are basically grey scaled value. So the value is between 0 to 255. 0---> black, 255----> white"
      ],
      "metadata": {
        "id": "pz-FgemWM0Nu"
      }
    },
    {
      "cell_type": "code",
      "source": [
        "pd.Series(train_label).value_counts()"
      ],
      "metadata": {
        "colab": {
          "base_uri": "https://localhost:8080/"
        },
        "id": "g09os8nKL222",
        "outputId": "62750617-fe70-4105-a410-4e49c13af576"
      },
      "execution_count": 9,
      "outputs": [
        {
          "output_type": "execute_result",
          "data": {
            "text/plain": [
              "9    6000\n",
              "0    6000\n",
              "3    6000\n",
              "2    6000\n",
              "7    6000\n",
              "5    6000\n",
              "1    6000\n",
              "6    6000\n",
              "4    6000\n",
              "8    6000\n",
              "dtype: int64"
            ]
          },
          "metadata": {},
          "execution_count": 9
        }
      ]
    },
    {
      "cell_type": "markdown",
      "source": [
        "So, 10 classes are there."
      ],
      "metadata": {
        "id": "PHKUe_GwNvgR"
      }
    },
    {
      "cell_type": "code",
      "source": [
        "train_img[2].shape"
      ],
      "metadata": {
        "colab": {
          "base_uri": "https://localhost:8080/"
        },
        "id": "6y8RYBOHL2xr",
        "outputId": "c13c2689-4fa5-4d7e-e078-1af36bad4a7e"
      },
      "execution_count": 10,
      "outputs": [
        {
          "output_type": "execute_result",
          "data": {
            "text/plain": [
              "(28, 28)"
            ]
          },
          "metadata": {},
          "execution_count": 10
        }
      ]
    },
    {
      "cell_type": "markdown",
      "source": [
        "So, this is basically a single image. Lets look at the image file now."
      ],
      "metadata": {
        "id": "zC-flinhOC-R"
      }
    },
    {
      "cell_type": "code",
      "source": [
        "plt.figure(figsize=(3,2))\n",
        "plt.imshow(train_img[3])\n",
        "plt.colorbar()\n",
        "plt.show()\n"
      ],
      "metadata": {
        "colab": {
          "base_uri": "https://localhost:8080/",
          "height": 217
        },
        "id": "oqvxfaeQN6VF",
        "outputId": "d2a72dbb-83ab-4c27-df1b-b7756e66aaaf"
      },
      "execution_count": 11,
      "outputs": [
        {
          "output_type": "display_data",
          "data": {
            "text/plain": [
              "<Figure size 300x200 with 2 Axes>"
            ],
            "image/png": "[encoded data removed]"
          },
          "metadata": {}
        }
      ]
    },
    {
      "cell_type": "markdown",
      "source": [
        "# Data Preprocessing"
      ],
      "metadata": {
        "id": "TFU7iX3jQ8T-"
      }
    },
    {
      "cell_type": "markdown",
      "source": [
        "Now, for a single picture of 28X28 = 784 pixels, one single pixel can have value from 0 to 255. To standardize this, we will divide each pixel by 255."
      ],
      "metadata": {
        "id": "xRigpGSNPpOE"
      }
    },
    {
      "cell_type": "code",
      "source": [
        "train_img_scaled = train_img / 255.0\n",
        "test_img_scaled = test_img / 255.0"
      ],
      "metadata": {
        "id": "PgHgsHRyOMCa"
      },
      "execution_count": 12,
      "outputs": []
    },
    {
      "cell_type": "code",
      "source": [
        "train_img_scaled[0].shape"
      ],
      "metadata": {
        "colab": {
          "base_uri": "https://localhost:8080/"
        },
        "id": "SQuRzYjUOL_O",
        "outputId": "436bdf4b-3707-4a19-eeca-1151eafb38d5"
      },
      "execution_count": 13,
      "outputs": [
        {
          "output_type": "execute_result",
          "data": {
            "text/plain": [
              "(28, 28)"
            ]
          },
          "metadata": {},
          "execution_count": 13
        }
      ]
    },
    {
      "cell_type": "code",
      "source": [
        "train_img_scaled[1,12,12]"
      ],
      "metadata": {
        "colab": {
          "base_uri": "https://localhost:8080/"
        },
        "id": "JST6jO5lQn5h",
        "outputId": "68fc3e96-0e94-44a6-b0f0-5c43b9a1226e"
      },
      "execution_count": 14,
      "outputs": [
        {
          "output_type": "execute_result",
          "data": {
            "text/plain": [
              "0.807843137254902"
            ]
          },
          "metadata": {},
          "execution_count": 14
        }
      ]
    },
    {
      "cell_type": "code",
      "source": [
        "plt.imshow(train_img_scaled[1])"
      ],
      "metadata": {
        "colab": {
          "base_uri": "https://localhost:8080/",
          "height": 447
        },
        "id": "MtkqBBdeQKfZ",
        "outputId": "3956a55d-b57c-4c98-9cfe-e91f9f88ac80"
      },
      "execution_count": 24,
      "outputs": [
        {
          "output_type": "execute_result",
          "data": {
            "text/plain": [
              "<matplotlib.image.AxesImage at 0x7f286820a340>"
            ]
          },
          "metadata": {},
          "execution_count": 24
        },
        {
          "output_type": "display_data",
          "data": {
            "text/plain": [
              "<Figure size 640x480 with 1 Axes>"
            ],
            "image/png": "[encoded data removed]"
          },
          "metadata": {}
        }
      ]
    },
    {
      "cell_type": "markdown",
      "source": [
        "## Building the Model"
      ],
      "metadata": {
        "id": "HP_V9KPBRLhp"
      }
    },
    {
      "cell_type": "code",
      "source": [
        "###layers\n",
        "l0 = tf.keras.layers.Flatten(input_shape=(28,28))\n",
        "l1 = tf.keras.layers.Dense(units=512, activation = 'sigmoid')\n",
        "l1 = tf.keras.layers.Dense(units=512, activation = 'sigmoid')\n",
        "d2 = tf.keras.layers.Dropout(0.2)\n",
        "l2 = tf.keras.layers.Dense(units=10, activation='softmax')\n",
        "\n",
        "\n",
        "layers = [l0,l1,l2]\n",
        "model = tf.keras.Sequential(layers)"
      ],
      "metadata": {
        "id": "NUH-AVaPQKnk"
      },
      "execution_count": 37,
      "outputs": []
    },
    {
      "cell_type": "markdown",
      "source": [
        "## Compiling the Model"
      ],
      "metadata": {
        "id": "j6gUZKIASNBX"
      }
    },
    {
      "cell_type": "code",
      "source": [
        "model.compile(optimizer='adam',\n",
        "              loss = 'sparse_categorical_crossentropy',\n",
        "              metrics=['accuracy'])"
      ],
      "metadata": {
        "id": "n7ACJ8EgQKqn"
      },
      "execution_count": 38,
      "outputs": []
    },
    {
      "cell_type": "markdown",
      "source": [
        "## Fitting "
      ],
      "metadata": {
        "id": "VYHMK8idVJTR"
      }
    },
    {
      "cell_type": "markdown",
      "source": [
        "#### Callback"
      ],
      "metadata": {
        "id": "UsAYNlG5VNIM"
      }
    },
    {
      "cell_type": "code",
      "source": [
        "callback = tf.keras.callbacks.EarlyStopping(monitor = 'val_accuracy',\n",
        "                                            min_delta = 0.001,\n",
        "                                            patience = 2\n",
        "                                            )"
      ],
      "metadata": {
        "id": "EvcW4tBFQKtu"
      },
      "execution_count": 39,
      "outputs": []
    },
    {
      "cell_type": "code",
      "source": [
        "model.fit(train_img_scaled, train_label, epochs=15, shuffle=True, validation_split = 0.2, callbacks=[callback], verbose=2)"
      ],
      "metadata": {
        "colab": {
          "base_uri": "https://localhost:8080/"
        },
        "id": "N4hm1CNWQKw9",
        "outputId": "f1c20fa7-9e57-46b6-ce78-1c8f50e6abbe"
      },
      "execution_count": 40,
      "outputs": [
        {
          "output_type": "stream",
          "name": "stdout",
          "text": [
            "Epoch 1/15\n",
            "1500/1500 - 5s - loss: 0.5241 - accuracy: 0.8133 - val_loss: 0.4364 - val_accuracy: 0.8398 - 5s/epoch - 3ms/step\n",
            "Epoch 2/15\n",
            "1500/1500 - 4s - loss: 0.3997 - accuracy: 0.8550 - val_loss: 0.3857 - val_accuracy: 0.8598 - 4s/epoch - 2ms/step\n",
            "Epoch 3/15\n",
            "1500/1500 - 4s - loss: 0.3591 - accuracy: 0.8692 - val_loss: 0.3706 - val_accuracy: 0.8612 - 4s/epoch - 3ms/step\n",
            "Epoch 4/15\n",
            "1500/1500 - 4s - loss: 0.3279 - accuracy: 0.8792 - val_loss: 0.3522 - val_accuracy: 0.8703 - 4s/epoch - 2ms/step\n",
            "Epoch 5/15\n",
            "1500/1500 - 4s - loss: 0.3061 - accuracy: 0.8869 - val_loss: 0.3369 - val_accuracy: 0.8730 - 4s/epoch - 2ms/step\n",
            "Epoch 6/15\n",
            "1500/1500 - 4s - loss: 0.2869 - accuracy: 0.8930 - val_loss: 0.3157 - val_accuracy: 0.8834 - 4s/epoch - 3ms/step\n",
            "Epoch 7/15\n",
            "1500/1500 - 4s - loss: 0.2703 - accuracy: 0.8995 - val_loss: 0.3260 - val_accuracy: 0.8849 - 4s/epoch - 2ms/step\n",
            "Epoch 8/15\n",
            "1500/1500 - 4s - loss: 0.2553 - accuracy: 0.9041 - val_loss: 0.3147 - val_accuracy: 0.8862 - 4s/epoch - 2ms/step\n",
            "Epoch 9/15\n",
            "1500/1500 - 5s - loss: 0.2422 - accuracy: 0.9096 - val_loss: 0.3254 - val_accuracy: 0.8810 - 5s/epoch - 3ms/step\n",
            "Epoch 10/15\n",
            "1500/1500 - 4s - loss: 0.2302 - accuracy: 0.9133 - val_loss: 0.3226 - val_accuracy: 0.8847 - 4s/epoch - 2ms/step\n"
          ]
        },
        {
          "output_type": "execute_result",
          "data": {
            "text/plain": [
              "<keras.callbacks.History at 0x7f285befa2b0>"
            ]
          },
          "metadata": {},
          "execution_count": 40
        }
      ]
    },
    {
      "cell_type": "markdown",
      "source": [
        "## Evaluation"
      ],
      "metadata": {
        "id": "QLFEr1LNCTBP"
      }
    },
    {
      "cell_type": "code",
      "source": [
        "test_loss, test_acc = model.evaluate(test_img, test_label, verbose=2)\n",
        "print('Test Accuracy : ',test_acc)\n",
        "print('Test Loss : ', test_loss)"
      ],
      "metadata": {
        "id": "8mtmgUiDQKzG",
        "colab": {
          "base_uri": "https://localhost:8080/"
        },
        "outputId": "14c61bff-409d-45cb-cc73-1f001955d89e"
      },
      "execution_count": 41,
      "outputs": [
        {
          "output_type": "stream",
          "name": "stdout",
          "text": [
            "313/313 - 1s - loss: 0.3835 - accuracy: 0.8731 - 642ms/epoch - 2ms/step\n",
            "Test Accuracy :  0.8730999827384949\n",
            "Test Loss :  0.3835013508796692\n"
          ]
        }
      ]
    },
    {
      "cell_type": "markdown",
      "source": [
        "## Prediction"
      ],
      "metadata": {
        "id": "bCgA5UTAEi6o"
      }
    },
    {
      "cell_type": "code",
      "source": [
        "pred = model.predict(test_img)"
      ],
      "metadata": {
        "id": "PDlX95_YQK2Q",
        "colab": {
          "base_uri": "https://localhost:8080/"
        },
        "outputId": "0589e5b2-005f-480a-d2a5-802d6368e59a"
      },
      "execution_count": 42,
      "outputs": [
        {
          "output_type": "stream",
          "name": "stdout",
          "text": [
            "313/313 [==============================] - 1s 3ms/step\n"
          ]
        }
      ]
    },
    {
      "cell_type": "code",
      "source": [
        "class_names = ['T-shirt/top', 'Trouser', 'Pullover', 'Dress', 'Coat', 'Sandal', 'Shirt', 'Sneaker', 'Bag', 'Ankle Boot']"
      ],
      "metadata": {
        "id": "4lvSQwefGsgz"
      },
      "execution_count": 43,
      "outputs": []
    },
    {
      "cell_type": "code",
      "source": [
        "test_img[0].shape"
      ],
      "metadata": {
        "colab": {
          "base_uri": "https://localhost:8080/"
        },
        "id": "3_mCCAPbSmzH",
        "outputId": "47dac51c-fad3-4a1b-b283-4e9a30faa693"
      },
      "execution_count": 54,
      "outputs": [
        {
          "output_type": "execute_result",
          "data": {
            "text/plain": [
              "(28, 28)"
            ]
          },
          "metadata": {},
          "execution_count": 54
        }
      ]
    },
    {
      "cell_type": "code",
      "source": [
        "print(class_names[np.argmax(pred[4])])\n",
        "plt.imshow(test_img[4])\n",
        "plt.show()"
      ],
      "metadata": {
        "colab": {
          "base_uri": "https://localhost:8080/",
          "height": 447
        },
        "id": "hh_QzCULN3Md",
        "outputId": "3f506588-23c7-4da8-c2f1-76042604e183"
      },
      "execution_count": 59,
      "outputs": [
        {
          "output_type": "stream",
          "name": "stdout",
          "text": [
            "Shirt\n"
          ]
        },
        {
          "output_type": "display_data",
          "data": {
            "text/plain": [
              "<Figure size 640x480 with 1 Axes>"
            ],
            "image/png": "[encoded data removed]"
          },
          "metadata": {}
        }
      ]
    },
    {
      "cell_type": "code",
      "source": [],
      "metadata": {
        "id": "Ku3ievFROLxY"
      },
      "execution_count": null,
      "outputs": []
    },
    {
      "cell_type": "code",
      "source": [],
      "metadata": {
        "id": "2WRaphMPUwcl"
      },
      "execution_count": null,
      "outputs": []
    },
    {
      "cell_type": "code",
      "source": [],
      "metadata": {
        "id": "MOFfucuVUwOX"
      },
      "execution_count": null,
      "outputs": []
    }
  ]
}